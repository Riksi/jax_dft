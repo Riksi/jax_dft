{
 "cells": [
  {
   "cell_type": "markdown",
   "id": "9c0afaab",
   "metadata": {},
   "source": [
    "# Finding Kohn Sham Gradients \n",
    "\n",
    "This notebook contains some **rough work** to get the values for the gradients in the following tests.\n",
    "\n",
    "- `test_kohn_sham_iteration_neural_xc_energy_loss_gradient`\n",
    "- `test_kohn_sham_iteration_neural_xc_density_loss_gradient`\n",
    "- `test_kohn_sham_iteration_neural_xc_density_loss_gradient_symmetry`\n",
    "- `test_kohn_sham_neural_xc_energy_loss_gradient`\n",
    "- `test_kohn_sham_neural_xc_density_loss_gradient`\n",
    "\n",
    "Please note:\n",
    "- The only goal of this notebook is to show how the gradients may be found analytically\n",
    "- The values obtained match very closely both with those found by `jax.grad` and those given in the the tests\n",
    "- It is *very* rough, by no means efficient and does not represent best practices for obtaining gradients. \n",
    "- It is confined to the cases covered in the test which means:\n",
    "  - It is hard-coded to handle exactly 2 electrons and we can deal with a single density vector and we don't keep track of whether or not the density vector is repeated as would be the case if you had an odd number of electrons.\n",
    "  - Same behaviour is assumed whether `enforce_reflection_symmetry` is `True` or `False`\n",
    "\n",
    "The formulas for finding gradients of eigenvectors and eigenvalues which is needed for `scf.solve_interacting_system` can be found [here](https://www.math.uwaterloo.ca/~hwolkowi/matrixcookbook.pdf) (see 67 and 68 in page 10, section 2.3). These formulas are valid for the return values of `jax.numpy.eigenh` since it returns normalised eigenvectors. "
   ]
  },
  {
   "cell_type": "code",
   "execution_count": 22,
   "id": "fe01891b-6779-40f8-9cce-8b6210b122be",
   "metadata": {},
   "outputs": [],
   "source": [
    "import jax.numpy as jnp\n",
    "import jax\n",
    "import sys\n",
    "import functools\n",
    "%reload_ext autoreload\n",
    "%autoreload 2"
   ]
  },
  {
   "cell_type": "code",
   "execution_count": 23,
   "id": "8a0bda9f-8eec-4c9d-8a52-80c7ce3b8d75",
   "metadata": {},
   "outputs": [],
   "source": [
    "import sys\n",
    "sys.path.append('../')\n",
    "from jax_dft import scf\n",
    "from jax.experimental import stax\n",
    "from jax_dft import np_utils\n",
    "from jax import tree_util\n",
    "from jax.config import config\n",
    "from jax_dft import neural_xc, utils\n",
    "from jax import random\n",
    "\n",
    "# Set the default dtype as float64\n",
    "config.update('jax_enable_x64', True)"
   ]
  },
  {
   "cell_type": "code",
   "execution_count": 24,
   "id": "b0e49419-0616-4527-93cc-1c4b656f859c",
   "metadata": {
    "tags": []
   },
   "outputs": [],
   "source": [
    "def KS_grad_step(state, old_state, weights, grads):\n",
    "    w, b = weights\n",
    "    dx = utils.get_dx(state.grids)\n",
    "    \n",
    "    n1 = old_state.density[:, None]\n",
    "    n2 = state.density[:, None]\n",
    "    \n",
    "    (dn1_dw, dn1_db) = grads\n",
    "    \n",
    "    dvxc1_dw = 2 * n1 + 2 * w * dn1_dw\n",
    "    dvxc1_db = 1 + 2 * w * dn1_db\n",
    "    \n",
    "    r1 = jnp.expand_dims(state.grids, axis=0)\n",
    "    r2 = jnp.expand_dims(state.grids, axis=1)\n",
    "    \n",
    "    fr1r2 = utils.exponential_coulomb(r1 - r2) # constant\n",
    "    \n",
    "    dvH1_shared = (fr1r2 * dx)\n",
    "    dvH1_dw = dvH1_shared @ dn1_dw\n",
    "    dvH1_db = dvH1_shared @ dn1_db\n",
    "    \n",
    "    ks_potential = (state.hartree_potential + state.external_potential + state.xc_potential)[:, None]\n",
    "    \n",
    "    A = scf.get_kinetic_matrix(state.grids) + jnp.diag(ks_potential.squeeze())\n",
    "    eigen_energies, wavefunctions_transpose = jnp.linalg.eigh(A)\n",
    "    \n",
    "    E0 = eigen_energies[0]\n",
    "    Psi0 = wavefunctions_transpose[:, :1]\n",
    "    \n",
    "    \n",
    "    dPsi0_shared = jnp.linalg.pinv(E0*jnp.eye(len(n1)) - A) @ jnp.diag(Psi0.squeeze())\n",
    "    dPsi0_dw = dPsi0_shared @ (dvxc1_dw + dvH1_dw)\n",
    "    dPsi0_db = dPsi0_shared @ (dvxc1_db + dvH1_db)\n",
    "    \n",
    "    Psi0_abs = jnp.sqrt(Psi0.T @ Psi0)\n",
    "    \n",
    "    a = Psi0 / (Psi0_abs * jnp.sqrt(dx))\n",
    "    \n",
    "    da_shared = (jnp.eye(len(n1)) / Psi0_abs - (Psi0 @ Psi0.T) / Psi0_abs**1.5) / jnp.sqrt(dx)\n",
    "\n",
    "    \n",
    "    da_dw = da_shared @ dPsi0_dw\n",
    "    da_db = da_shared @ dPsi0_db\n",
    "    \n",
    "    dn2_dw = 4 * a * da_dw\n",
    "    dn2_db = 4 * a * da_db\n",
    "    \n",
    "    dEeig_dw = (2 * Psi0 * Psi0).T @ (dvxc1_dw + dvH1_dw)\n",
    "    dEeig_db = (2 * Psi0 * Psi0).T @ (dvxc1_db + dvH1_db)\n",
    "    \n",
    "    \n",
    "    dPext_dw = ((dvxc1_dw + dvH1_dw).T @ n2 + (ks_potential).T @ dn2_dw) * dx\n",
    "    dPext_db = ((dvxc1_db + dvH1_db).T @ n2 + (ks_potential).T @ dn2_db) * dx\n",
    "    \n",
    "    dvxc2_dw = 2 * n2 + 2 * w * dn2_dw\n",
    "    dvxc2_db = 1 + 2 * w * dn2_db\n",
    "    \n",
    "    dvH2_shared =  (fr1r2 * dx)\n",
    "    dvH2_dw = dvH2_shared @ dn2_dw \n",
    "    dvH2_db = dvH2_shared @ dn2_db\n",
    "    \n",
    "    vH2 = scf.get_hartree_potential(\n",
    "            density=n2.squeeze(),\n",
    "            interaction_fn=utils.exponential_coulomb,\n",
    "            grids=state.grids,\n",
    "        )[:, None]\n",
    "    \n",
    "    print(dvH2_dw.shape, n2.shape, vH2.shape, dn2_dw.shape)\n",
    "    \n",
    "    dEH2_shared = vH2 * dx # (fr1r2 @ n2) * dx**2\n",
    "    dEH2_dw = dEH2_shared.T @ dn2_dw\n",
    "    dEH2_db = dEH2_shared.T @ dn2_db\n",
    "    \n",
    "    dEext2_dw = (state.external_potential.T @ dn2_dw) * dx\n",
    "    dEext2_db = (state.external_potential.T @ dn2_db) * dx\n",
    "    \n",
    "    dExc2_dw = (n2.T @ n2  + (2 * w * n2 + b).T @ dn2_dw) * dx\n",
    "    dExc2_db = (n2.sum() + (2 * w * n2 + b).T @ dn2_db) * dx        \n",
    "                \n",
    "                \n",
    "    dTE_dw = (dEeig_dw - dPext_dw) + dEH2_dw + dEext2_dw + dExc2_dw\n",
    "    dTE_db = (dEeig_db - dPext_db) + dEH2_db + dEext2_db + dExc2_db\n",
    "    \n",
    "    return (dn2_dw, dn2_db), (dTE_dw, dTE_db)"
   ]
  },
  {
   "cell_type": "code",
   "execution_count": 25,
   "id": "c3bfe83d-cb82-4f36-9997-20635b12eb50",
   "metadata": {
    "tags": []
   },
   "outputs": [],
   "source": [
    "def KS_grad(grids, num_electrons, enforce_reflection_symmetry, iterations, \n",
    "            alpha=0.5,\n",
    "            alpha_decay=0.9,\n",
    "            num_mixing_iterations=2,\n",
    "           density_mse_converge_tolerance=-1.,\n",
    "           solve_init_density=False):\n",
    "    init_fn, xc_energy_density_fn = neural_xc.local_density_approximation(\n",
    "    stax.serial(stax.Dense(1))\n",
    ")\n",
    "    init_params = init_fn(rng=random.PRNGKey(0))\n",
    "    initial_state = _create_testing_initial_state(\n",
    "        grids, num_electrons, utils.exponential_coulomb)\n",
    "    \n",
    "    if solve_init_density:\n",
    "        initial_state = initial_state._replace(density = scf.solve_interacting_system(\n",
    "            external_potential=initial_state.external_potential,\n",
    "            num_electrons=num_electrons,\n",
    "            grids=grids\n",
    "        )[0])\n",
    "    \n",
    "    \n",
    "    \n",
    "    target_density = (\n",
    "        utils.gaussian(grids=grids, centre=-0.5, sigma=1.)\n",
    "        + utils.gaussian(grids=grids, centre=0.5, sigma=1.))\n",
    "    spec, flatten_init_params = np_utils.flatten(init_params)\n",
    "     \n",
    "    w, b = flatten_init_params\n",
    "    \n",
    "    dn_dw, dn_db = (jnp.zeros([len(initial_state.density), 1]) for _ in range(2))\n",
    "    dLE_dw, dLE_db = (jnp.zeros([1, 1]) for _ in range(2))\n",
    "    \n",
    "    dx = utils.get_dx(grids)\n",
    "    \n",
    "    state = initial_state\n",
    "    \n",
    "    converged = False\n",
    "    \n",
    "    states = []\n",
    "    differences = None\n",
    "    ddiffs_w = None\n",
    "    ddiffs_b = None\n",
    "    \n",
    "    state = initial_state\n",
    "    \n",
    "    for step in range(iterations):\n",
    "        \n",
    "        if converged:\n",
    "            states.append(state)\n",
    "            continue\n",
    "            \n",
    "        old_state = state\n",
    "        state = scf.kohn_sham_iteration(\n",
    "              state=old_state,\n",
    "              num_electrons=num_electrons,\n",
    "              xc_energy_density_fn=tree_util.Partial(\n",
    "                  xc_energy_density_fn,\n",
    "                  params=np_utils.unflatten(spec, flatten_init_params)),\n",
    "              interaction_fn=utils.exponential_coulomb,\n",
    "              enforce_reflection_symmetry=enforce_reflection_symmetry)\n",
    "        \n",
    "        \n",
    "        \n",
    "        # dL_dE = 2 * (state.total_energy - target_energy)\n",
    "        \n",
    "        dn_dw_before, dn_db_before = (dn_dw, dn_db)\n",
    "        \n",
    "        (dn_dw, dn_db), (dE_dw, dE_db) = KS_grad_step(state, old_state, (w, b), (dn_dw, dn_db))\n",
    " \n",
    "        \n",
    "        # dLE_dw += dL_dE * dE_dw_step\n",
    "        # dLE_db += dL_dE * dE_db_step\n",
    "        \n",
    "        if iterations == 1:\n",
    "            states.append(state)\n",
    "            break\n",
    "        \n",
    "        \n",
    "        density_difference = state.density - old_state.density\n",
    "        dn_dw_diff = dn_dw - dn_dw_before\n",
    "        dn_db_diff = dn_db - dn_db_before\n",
    "        \n",
    "\n",
    "        if differences is None:\n",
    "            differences = jnp.array([density_difference])\n",
    "            ddiffs_w = jnp.array([dn_dw_diff.squeeze()])\n",
    "            ddiffs_b = jnp.array([dn_db_diff.squeeze()])\n",
    "        else:\n",
    "            differences = jnp.vstack([differences, density_difference])\n",
    "            ddiffs_w = jnp.vstack([ddiffs_w, dn_dw_diff.squeeze()])\n",
    "            ddiffs_b = jnp.vstack([ddiffs_b, dn_db_diff.squeeze()])\n",
    "\n",
    "        if jnp.mean(jnp.square(differences)) < density_mse_converge_tolerance:\n",
    "            print('Converged at iter', step)\n",
    "            converged = True\n",
    "\n",
    "        state = state._replace(converged=converged)\n",
    "        state = state._replace(\n",
    "            density=old_state.density + alpha * jnp.mean(differences[-num_mixing_iterations:], axis=0)\n",
    "        )\n",
    "        dn_dw = dn_dw_before + alpha * jnp.mean(ddiffs_w[-num_mixing_iterations:], axis=0)[:, None]\n",
    "        dn_db = dn_db_before + alpha * jnp.mean(ddiffs_b[-num_mixing_iterations:], axis=0)[:, None]\n",
    "        \n",
    "        states.append(state)\n",
    "        alpha *= alpha_decay\n",
    "        \n",
    "    \n",
    "    dL_dn = (jnp.sign(states[-1].density - target_density) * dx)[:, None]\n",
    "    dLn_dw = dL_dn.T @ dn_dw\n",
    "    dLn_db = dL_dn.T @ dn_db\n",
    "    \n",
    "    dL_dE = 2 * (states[-1].total_energy - target_energy)\n",
    "    dLE_dw = dL_dE * dE_dw\n",
    "    dLE_db = dL_dE * dE_db\n",
    "    return (dLn_dw.squeeze(), dLn_db.squeeze()), (dLE_dw.squeeze(), dLE_db.squeeze()), (w, b)"
   ]
  },
  {
   "cell_type": "code",
   "execution_count": 26,
   "id": "c57707ff-7878-44ef-91a1-6c5a1e757915",
   "metadata": {
    "tags": []
   },
   "outputs": [],
   "source": [
    "def _create_testing_initial_state(grids, num_electrons, interaction_fn):\n",
    "    locations = jnp.array([-0.5, 0.5])\n",
    "    nuclear_charges = jnp.array([1, 1])\n",
    "    return scf.KohnShamState(\n",
    "        density=num_electrons * utils.gaussian(\n",
    "            grids=grids, centre=0., sigma=1.),\n",
    "        # Set initial energy as inf, the actual value is not used in Kohn-Sham\n",
    "        # calculation.\n",
    "        total_energy=jnp.inf,\n",
    "        locations=locations,\n",
    "        nuclear_charges=nuclear_charges,\n",
    "        external_potential=utils.get_atomic_chain_potential(\n",
    "            grids=grids,\n",
    "            locations=locations,\n",
    "            nuclear_charges=nuclear_charges,\n",
    "            interaction_fn=interaction_fn),\n",
    "        grids=grids,\n",
    "        num_electrons=num_electrons)"
   ]
  },
  {
   "cell_type": "markdown",
   "id": "8bac6fe0-a660-4da7-ab5c-765754ea1e2a",
   "metadata": {},
   "source": [
    "## Single iteration"
   ]
  },
  {
   "cell_type": "code",
   "execution_count": 63,
   "id": "5555333b-88e3-499e-bc81-00fd2b92eed0",
   "metadata": {
    "tags": []
   },
   "outputs": [],
   "source": [
    "target_energy = 2.\n",
    "\n",
    "_grids = jnp.linspace(-5, 5, 101)\n",
    "_num_electrons = 2\n",
    "\n",
    "target_density = (\n",
    "    utils.gaussian(grids=_grids, centre=-0.5, sigma=1.)\n",
    "    + utils.gaussian(grids=_grids, centre=0.5, sigma=1.))\n",
    "\n",
    "init_fn, xc_energy_density_fn = neural_xc.local_density_approximation(\n",
    "    stax.serial(stax.Dense(1))\n",
    ")\n",
    "init_params = init_fn(rng=random.PRNGKey(0))\n",
    "\n",
    "spec, flatten_init_params = np_utils.flatten(init_params)\n",
    "\n",
    "initial_state = _create_testing_initial_state(\n",
    "    _grids, _num_electrons, utils.exponential_coulomb)\n",
    "\n",
    "def loss_n(flatten_params, initial_state, target_density):\n",
    "    state = scf.kohn_sham_iteration(\n",
    "      state=initial_state,\n",
    "      num_electrons=_num_electrons,\n",
    "      xc_energy_density_fn=tree_util.Partial(\n",
    "          xc_energy_density_fn,\n",
    "          params=np_utils.unflatten(spec, flatten_params)),\n",
    "      interaction_fn=utils.exponential_coulomb,\n",
    "      enforce_reflection_symmetry=False)\n",
    "    return jnp.sum(jnp.abs(state.density - target_density)) * utils.get_dx(\n",
    "      _grids)\n",
    "\n",
    "grad_fn_n = jax.grad(loss_n)\n",
    "\n",
    "params_grad_n = grad_fn_n(\n",
    "    flatten_init_params,\n",
    "    initial_state=initial_state,\n",
    "    target_density=target_density)\n",
    "\n",
    "\n",
    "\n",
    "def loss_n_sym(flatten_params, initial_state, target_density):\n",
    "    state = scf.kohn_sham_iteration(\n",
    "      state=initial_state,\n",
    "      num_electrons=_num_electrons,\n",
    "      xc_energy_density_fn=tree_util.Partial(\n",
    "          xc_energy_density_fn,\n",
    "          params=np_utils.unflatten(spec, flatten_params)),\n",
    "      interaction_fn=utils.exponential_coulomb,\n",
    "      enforce_reflection_symmetry=True)\n",
    "    return jnp.sum(jnp.abs(state.density - target_density)) * utils.get_dx(\n",
    "      _grids)\n",
    "                     \n",
    "\n",
    "grad_fn_n_sym = jax.grad(loss_n_sym)\n",
    "\n",
    "params_grad_n_sym = grad_fn_n_sym(\n",
    "    flatten_init_params,\n",
    "    initial_state=initial_state,\n",
    "    target_density=target_density)\n",
    "\n",
    "\n",
    "def loss_E(flatten_params, initial_state, target_energy):\n",
    "    _state = scf.kohn_sham_iteration(\n",
    "        state=initial_state,\n",
    "        num_electrons=_num_electrons,\n",
    "        xc_energy_density_fn=tree_util.Partial(\n",
    "            xc_energy_density_fn,\n",
    "            params=np_utils.unflatten(spec, flatten_params)),\n",
    "        interaction_fn=utils.exponential_coulomb,\n",
    "        enforce_reflection_symmetry=True)\n",
    "    return (_state.total_energy - target_energy) ** 2\n",
    "\n",
    "grad_fn_E = jax.grad(loss_E)\n",
    "\n",
    "params_grad_E = grad_fn_E(\n",
    "    flatten_init_params,\n",
    "    initial_state=initial_state,\n",
    "    target_energy=target_energy)"
   ]
  },
  {
   "cell_type": "code",
   "execution_count": 64,
   "id": "b5ab602c-3494-4962-8331-3e119bee3460",
   "metadata": {},
   "outputs": [
    {
     "name": "stdout",
     "output_type": "stream",
     "text": [
      "(101, 1) (101, 1) (101, 1) (101, 1)\n"
     ]
    }
   ],
   "source": [
    "x = KS_grad(grids=_grids, num_electrons=_num_electrons, enforce_reflection_symmetry=True, iterations=1)"
   ]
  },
  {
   "cell_type": "code",
   "execution_count": 65,
   "id": "21c06513-2f63-41f7-a4b3-382d773f7d70",
   "metadata": {},
   "outputs": [
    {
     "data": {
      "text/plain": [
       "[[(), ()], [(), ()], [(), ()]]"
      ]
     },
     "execution_count": 65,
     "metadata": {},
     "output_type": "execute_result"
    }
   ],
   "source": [
    "[[i.shape for i in y] for y in x]"
   ]
  },
  {
   "cell_type": "code",
   "execution_count": 66,
   "id": "c42571c4-3cc1-43eb-9d09-c376b6da1fce",
   "metadata": {},
   "outputs": [
    {
     "data": {
      "text/plain": [
       "((DeviceArray(-1.3413697, dtype=float64),\n",
       "  DeviceArray(-1.51196672e-15, dtype=float64)),\n",
       " (DeviceArray(-8.54995173, dtype=float64),\n",
       "  DeviceArray(-14.75419501, dtype=float64)))"
      ]
     },
     "execution_count": 66,
     "metadata": {},
     "output_type": "execute_result"
    }
   ],
   "source": [
    "x[0], x[1]"
   ]
  },
  {
   "cell_type": "code",
   "execution_count": 67,
   "id": "442fb999-9dd6-468b-8ae2-a62f77cc7eab",
   "metadata": {},
   "outputs": [
    {
     "data": {
      "text/plain": [
       "array([-0.27235165,  0.01030468])"
      ]
     },
     "execution_count": 67,
     "metadata": {},
     "output_type": "execute_result"
    }
   ],
   "source": [
    "flatten_init_params"
   ]
  },
  {
   "cell_type": "code",
   "execution_count": 68,
   "id": "3fd8072c-6efa-44b3-b4c0-dfde8a3f9501",
   "metadata": {},
   "outputs": [
    {
     "data": {
      "text/plain": [
       "DeviceArray([-1.34136970e+00,  2.26901831e-15], dtype=float64)"
      ]
     },
     "execution_count": 68,
     "metadata": {},
     "output_type": "execute_result"
    }
   ],
   "source": [
    "params_grad_n_sym"
   ]
  },
  {
   "cell_type": "code",
   "execution_count": 69,
   "id": "c285e56c-3300-468b-9931-bc2e45adfaf1",
   "metadata": {},
   "outputs": [
    {
     "data": {
      "text/plain": [
       "DeviceArray(True, dtype=bool)"
      ]
     },
     "execution_count": 69,
     "metadata": {},
     "output_type": "execute_result"
    }
   ],
   "source": [
    "assert jnp.allclose(params_grad_n_sym, jnp.array(x[0]))\n",
    "jnp.allclose(params_grad_n_sym, jnp.array(x[0]))"
   ]
  },
  {
   "cell_type": "code",
   "execution_count": 70,
   "id": "862cf197-7fb9-4c6b-b0c6-02ab7e09a80d",
   "metadata": {},
   "outputs": [
    {
     "data": {
      "text/plain": [
       "DeviceArray([ -8.54995173, -14.75419501], dtype=float64)"
      ]
     },
     "execution_count": 70,
     "metadata": {},
     "output_type": "execute_result"
    }
   ],
   "source": [
    "params_grad_E"
   ]
  },
  {
   "cell_type": "code",
   "execution_count": 71,
   "id": "3d37d03d-c59a-44d3-aa36-522ceb5e42cc",
   "metadata": {},
   "outputs": [
    {
     "data": {
      "text/plain": [
       "DeviceArray(True, dtype=bool)"
      ]
     },
     "execution_count": 71,
     "metadata": {},
     "output_type": "execute_result"
    }
   ],
   "source": [
    "assert jnp.allclose(params_grad_E, jnp.array(x[1]))\n",
    "jnp.allclose(params_grad_E, jnp.array(x[1]))"
   ]
  },
  {
   "cell_type": "code",
   "execution_count": 72,
   "id": "097c7cd2-1997-4373-b09a-913e9b0d8dcc",
   "metadata": {},
   "outputs": [
    {
     "name": "stdout",
     "output_type": "stream",
     "text": [
      "(101, 1) (101, 1) (101, 1) (101, 1)\n"
     ]
    },
    {
     "data": {
      "text/plain": [
       "DeviceArray(True, dtype=bool)"
      ]
     },
     "execution_count": 72,
     "metadata": {},
     "output_type": "execute_result"
    }
   ],
   "source": [
    "x = KS_grad(grids=_grids, num_electrons=_num_electrons, enforce_reflection_symmetry=False, iterations=1)\n",
    "\n",
    "assert jnp.allclose(params_grad_n, jnp.array(x[0]))\n",
    "jnp.allclose(params_grad_n, jnp.array(x[0]))"
   ]
  },
  {
   "cell_type": "markdown",
   "id": "cb5d61d6-3a53-48a3-8340-6848679ed7e0",
   "metadata": {},
   "source": [
    "## Several iterations - Energy"
   ]
  },
  {
   "cell_type": "code",
   "execution_count": 73,
   "id": "94386fee-a6e3-4a3c-99b3-d30b80178785",
   "metadata": {},
   "outputs": [],
   "source": [
    "init_fn, xc_energy_density_fn = neural_xc.local_density_approximation(\n",
    "    stax.serial(stax.Dense(1)))\n",
    "init_params = init_fn(rng=random.PRNGKey(0))\n",
    "target_energy = 2.\n",
    "\n",
    "spec, flatten_init_params = np_utils.flatten(init_params)\n",
    "spec2, flatten_init_params2 = np_utils.flatten(init_params)\n",
    "_locations = jnp.array([-0.5, 0.5])\n",
    "_grids = jnp.linspace(-5, 5, 101)\n",
    "_nuclear_charges = jnp.array([1, 1])\n",
    "_num_electrons = 2\n",
    "\n",
    "target_density = (\n",
    "        utils.gaussian(grids=_grids, centre=-0.5, sigma=1.)\n",
    "        + utils.gaussian(grids=_grids, centre=0.5, sigma=1.))\n",
    "\n",
    "\n",
    "\n",
    "def loss_E(flatten_params, target_energy):\n",
    "  state = scf.kohn_sham(\n",
    "      locations=_locations,\n",
    "      nuclear_charges=_nuclear_charges,\n",
    "      num_electrons=_num_electrons,\n",
    "      num_iterations=3,\n",
    "      grids=_grids,\n",
    "      xc_energy_density_fn=tree_util.Partial(\n",
    "          xc_energy_density_fn,\n",
    "          params=np_utils.unflatten(spec2, flatten_params)),\n",
    "      interaction_fn=utils.exponential_coulomb)\n",
    "  final_state = scf.get_final_state(state)\n",
    "  return (final_state.total_energy - target_energy) ** 2\n",
    "\n",
    "grad_fn_E = jax.grad(loss_E)\n",
    "\n",
    "params_grad_E = grad_fn_E(flatten_init_params2, target_energy=target_energy)\n",
    "\n",
    "\n",
    "def loss_n(flatten_params, target_density):\n",
    "  state = scf.kohn_sham(\n",
    "      locations=_locations,\n",
    "      nuclear_charges=_nuclear_charges,\n",
    "      num_electrons=_num_electrons,\n",
    "      num_iterations=3,\n",
    "      grids=_grids,\n",
    "      xc_energy_density_fn=tree_util.Partial(\n",
    "          xc_energy_density_fn,\n",
    "          params=np_utils.unflatten(spec, flatten_params)),\n",
    "      interaction_fn=utils.exponential_coulomb,\n",
    "      density_mse_converge_tolerance=-1.)\n",
    "  final_state = scf.get_final_state(state)\n",
    "  return jnp.sum(\n",
    "      jnp.abs(final_state.density - target_density)) * utils.get_dx(\n",
    "          _grids)\n",
    "\n",
    "grad_fn_n = jax.grad(loss_n)\n",
    "\n",
    "params_grad_n = grad_fn_n(flatten_init_params, target_density=target_density)\n"
   ]
  },
  {
   "cell_type": "code",
   "execution_count": 74,
   "id": "1e69a4c5-7a41-4505-9e95-0554ec9bfdf4",
   "metadata": {},
   "outputs": [
    {
     "name": "stdout",
     "output_type": "stream",
     "text": [
      "(101, 1) (101, 1) (101, 1) (101, 1)\n",
      "(101, 1) (101, 1) (101, 1) (101, 1)\n",
      "(101, 1) (101, 1) (101, 1) (101, 1)\n"
     ]
    }
   ],
   "source": [
    "x = KS_grad(grids=_grids, \n",
    "            num_electrons=_num_electrons, \n",
    "            enforce_reflection_symmetry=False, \n",
    "            iterations=3, \n",
    "            solve_init_density=True)"
   ]
  },
  {
   "cell_type": "code",
   "execution_count": 75,
   "id": "a4b1ad5d-9c5d-4508-a52c-cfafb3deb949",
   "metadata": {},
   "outputs": [
    {
     "data": {
      "text/plain": [
       "((DeviceArray(-1.59671362, dtype=float64),\n",
       "  DeviceArray(-1.07372625e-13, dtype=float64)),\n",
       " (DeviceArray(-8.57162696, dtype=float64),\n",
       "  DeviceArray(-14.75474883, dtype=float64)),\n",
       " (-0.27235164784460814, 0.010304675877677812))"
      ]
     },
     "execution_count": 75,
     "metadata": {},
     "output_type": "execute_result"
    }
   ],
   "source": [
    "x"
   ]
  },
  {
   "cell_type": "code",
   "execution_count": 76,
   "id": "e602c867-b1b6-45c2-b037-9521628719da",
   "metadata": {},
   "outputs": [
    {
     "data": {
      "text/plain": [
       "([(DeviceArray([[-0.27235165]], dtype=float64),\n",
       "   DeviceArray([0.01030468], dtype=float64))],\n",
       " DeviceArray([-1.59671362e+00, -7.32053307e-16], dtype=float64))"
      ]
     },
     "execution_count": 76,
     "metadata": {},
     "output_type": "execute_result"
    }
   ],
   "source": [
    "init_params, params_grad_n"
   ]
  },
  {
   "cell_type": "code",
   "execution_count": 77,
   "id": "8c11de29-e3f2-40c0-a859-88f67b408414",
   "metadata": {},
   "outputs": [
    {
     "data": {
      "text/plain": [
       "DeviceArray(True, dtype=bool)"
      ]
     },
     "execution_count": 77,
     "metadata": {},
     "output_type": "execute_result"
    }
   ],
   "source": [
    "assert jnp.allclose(params_grad_n, jnp.stack(x[0]))\n",
    "jnp.allclose(params_grad_n, jnp.stack(x[0]))"
   ]
  },
  {
   "cell_type": "code",
   "execution_count": 78,
   "id": "60c430cd-eded-4e89-a358-55870249bbb2",
   "metadata": {},
   "outputs": [
    {
     "data": {
      "text/plain": [
       "DeviceArray(True, dtype=bool)"
      ]
     },
     "execution_count": 78,
     "metadata": {},
     "output_type": "execute_result"
    }
   ],
   "source": [
    "assert jnp.allclose(params_grad_E, jnp.stack(x[1]))\n",
    "jnp.allclose(params_grad_E, jnp.stack(x[1]))"
   ]
  },
  {
   "cell_type": "code",
   "execution_count": 79,
   "id": "65d1ef05-cbc2-45f5-a099-06662a8c6179",
   "metadata": {},
   "outputs": [
    {
     "data": {
      "text/plain": [
       "DeviceArray([ -8.57162696, -14.75474883], dtype=float64)"
      ]
     },
     "execution_count": 79,
     "metadata": {},
     "output_type": "execute_result"
    }
   ],
   "source": [
    "params_grad_E"
   ]
  }
 ],
 "metadata": {
  "kernelspec": {
   "display_name": "py3ml",
   "language": "python",
   "name": "py3ml"
  },
  "language_info": {
   "codemirror_mode": {
    "name": "ipython",
    "version": 3
   },
   "file_extension": ".py",
   "mimetype": "text/x-python",
   "name": "python",
   "nbconvert_exporter": "python",
   "pygments_lexer": "ipython3",
   "version": "3.9.10"
  }
 },
 "nbformat": 4,
 "nbformat_minor": 5
}